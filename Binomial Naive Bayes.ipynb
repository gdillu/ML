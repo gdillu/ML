{
 "cells": [
  {
   "cell_type": "code",
   "execution_count": 2,
   "id": "ff1d9321",
   "metadata": {},
   "outputs": [],
   "source": [
    "weather=['Sunny','Sunny','Overcast','Rainy','Rainy','Rainy','Overcast','Sunny','Sunny',\n",
    "'Rainy','Sunny','Overcast','Overcast','Rainy']\n",
    "temp=['Hot','Hot','Hot','Mild','Cool','Cool','Cool','Mild','Cool','Mild','Mild','Mild','Hot','Mild']\n",
    "humidity=['High', 'High','High','High','Normal','Normal','Normal','High', 'Normal','Normal','Normal','High','Normal','High'] \n",
    "windy=['weak', 'strong', 'weak', 'weak', 'weak', 'strong', 'strong', 'weak', 'weak', 'weak', 'strong', 'strong', 'weak','strong']\n",
    "\n",
    "\n",
    "play=['No','No','Yes','Yes','Yes','No','Yes','No','Yes','Yes','Yes','Yes','Yes','No']"
   ]
  },
  {
   "cell_type": "code",
   "execution_count": 3,
   "id": "d561ca21",
   "metadata": {},
   "outputs": [],
   "source": [
    "from sklearn import preprocessing\n",
    "#creating labelEncoder\n",
    "labelEncoder = preprocessing.LabelEncoder()"
   ]
  },
  {
   "cell_type": "code",
   "execution_count": 5,
   "id": "f71939e1",
   "metadata": {},
   "outputs": [
    {
     "name": "stdout",
     "output_type": "stream",
     "text": [
      "['Sunny', 'Sunny', 'Overcast', 'Rainy', 'Rainy', 'Rainy', 'Overcast', 'Sunny', 'Sunny', 'Rainy', 'Sunny', 'Overcast', 'Overcast', 'Rainy']\n",
      "[2 2 0 1 1 1 0 2 2 1 2 0 0 1]\n"
     ]
    }
   ],
   "source": [
    "weather_en=labelEncoder.fit_transform(weather)\n",
    "print(weather)\n",
    "print(weather_en)"
   ]
  },
  {
   "cell_type": "code",
   "execution_count": 6,
   "id": "c93c84a0",
   "metadata": {},
   "outputs": [
    {
     "name": "stdout",
     "output_type": "stream",
     "text": [
      "[1 1 1 2 0 0 0 2 0 2 2 2 1 2]\n"
     ]
    }
   ],
   "source": [
    "temp_en=labelEncoder.fit_transform(temp)\n",
    "print(temp_en)"
   ]
  },
  {
   "cell_type": "code",
   "execution_count": 7,
   "id": "206ed70e",
   "metadata": {},
   "outputs": [
    {
     "name": "stdout",
     "output_type": "stream",
     "text": [
      "[0 0 0 0 1 1 1 0 1 1 1 0 1 0]\n"
     ]
    }
   ],
   "source": [
    "hum_en=labelEncoder.fit_transform(humidity)\n",
    "print(hum_en)"
   ]
  },
  {
   "cell_type": "code",
   "execution_count": 9,
   "id": "e9f36c09",
   "metadata": {},
   "outputs": [
    {
     "name": "stdout",
     "output_type": "stream",
     "text": [
      "[1 0 1 1 1 0 0 1 1 1 0 0 1 0]\n"
     ]
    }
   ],
   "source": [
    "wind_en=labelEncoder.fit_transform(windy)\n",
    "print(wind_en)"
   ]
  },
  {
   "cell_type": "code",
   "execution_count": 10,
   "id": "15509f8b",
   "metadata": {},
   "outputs": [
    {
     "name": "stdout",
     "output_type": "stream",
     "text": [
      "[0 0 1 1 1 0 1 0 1 1 1 1 1 0]\n"
     ]
    }
   ],
   "source": [
    "label=labelEncoder.fit_transform(play)\n",
    "print(label)"
   ]
  },
  {
   "cell_type": "code",
   "execution_count": 11,
   "id": "304bccc2",
   "metadata": {},
   "outputs": [],
   "source": [
    "feature=tuple(zip(weather_en,temp_en,hum_en,wind_en))"
   ]
  },
  {
   "cell_type": "code",
   "execution_count": 13,
   "id": "1e2346cc",
   "metadata": {},
   "outputs": [],
   "source": [
    "from sklearn.naive_bayes import GaussianNB\n",
    "model=GaussianNB()"
   ]
  },
  {
   "cell_type": "code",
   "execution_count": 14,
   "id": "aeb78876",
   "metadata": {},
   "outputs": [
    {
     "data": {
      "text/plain": [
       "GaussianNB()"
      ]
     },
     "execution_count": 14,
     "metadata": {},
     "output_type": "execute_result"
    }
   ],
   "source": [
    "model.fit(feature,label)"
   ]
  },
  {
   "cell_type": "code",
   "execution_count": 16,
   "id": "e31d4998",
   "metadata": {},
   "outputs": [],
   "source": [
    "new_data=[0,2,0,0]\n",
    "pre=model.predict([new_data])"
   ]
  },
  {
   "cell_type": "code",
   "execution_count": 17,
   "id": "26bc8fe7",
   "metadata": {},
   "outputs": [
    {
     "name": "stdout",
     "output_type": "stream",
     "text": [
      "yes\n"
     ]
    }
   ],
   "source": [
    "print(\"yes\" if pre else \"no\")"
   ]
  },
  {
   "cell_type": "code",
   "execution_count": 18,
   "id": "d533051a",
   "metadata": {},
   "outputs": [
    {
     "name": "stdout",
     "output_type": "stream",
     "text": [
      "no\n"
     ]
    }
   ],
   "source": [
    "ne=[2,0,0,0]\n",
    "pre=model.predict([ne])\n",
    "print(\"yes\" if pre else \"no\")"
   ]
  }
 ],
 "metadata": {
  "kernelspec": {
   "display_name": "Python 3 (ipykernel)",
   "language": "python",
   "name": "python3"
  },
  "language_info": {
   "codemirror_mode": {
    "name": "ipython",
    "version": 3
   },
   "file_extension": ".py",
   "mimetype": "text/x-python",
   "name": "python",
   "nbconvert_exporter": "python",
   "pygments_lexer": "ipython3",
   "version": "3.9.5"
  }
 },
 "nbformat": 4,
 "nbformat_minor": 5
}
