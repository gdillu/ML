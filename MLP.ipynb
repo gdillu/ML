{
 "cells": [
  {
   "cell_type": "code",
   "execution_count": 1,
   "id": "06016de0",
   "metadata": {},
   "outputs": [],
   "source": [
    "import numpy as np\n",
    "import pandas as pd\n",
    "import sklearn.metrics \n",
    "from sklearn.metrics import confusion_matrix\n",
    "# Import accuracy score \n",
    "from sklearn.metrics import accuracy_score\n",
    "#Importing LabelEncoder \n",
    "from sklearn import preprocessing\n",
    "# Import train_test_split function\n",
    "from sklearn.model_selection import train_test_split\n",
    "# Import MLPClassifer \n",
    "from sklearn.neural_network import MLPClassifier\n",
    "import matplotlib.pyplot as plt\n",
    "from sklearn import metrics"
   ]
  },
  {
   "cell_type": "code",
   "execution_count": 2,
   "id": "0c6cb14a",
   "metadata": {},
   "outputs": [],
   "source": [
    "data=pd.read_csv('HR_comma_sep.csv')"
   ]
  },
  {
   "cell_type": "code",
   "execution_count": 3,
   "id": "33ed7727",
   "metadata": {},
   "outputs": [
    {
     "data": {
      "text/html": [
       "<div>\n",
       "<style scoped>\n",
       "    .dataframe tbody tr th:only-of-type {\n",
       "        vertical-align: middle;\n",
       "    }\n",
       "\n",
       "    .dataframe tbody tr th {\n",
       "        vertical-align: top;\n",
       "    }\n",
       "\n",
       "    .dataframe thead th {\n",
       "        text-align: right;\n",
       "    }\n",
       "</style>\n",
       "<table border=\"1\" class=\"dataframe\">\n",
       "  <thead>\n",
       "    <tr style=\"text-align: right;\">\n",
       "      <th></th>\n",
       "      <th>satisfaction_level</th>\n",
       "      <th>last_evaluation</th>\n",
       "      <th>number_project</th>\n",
       "      <th>average_montly_hours</th>\n",
       "      <th>time_spend_company</th>\n",
       "      <th>Work_accident</th>\n",
       "      <th>left</th>\n",
       "      <th>promotion_last_5years</th>\n",
       "      <th>sales</th>\n",
       "      <th>salary</th>\n",
       "    </tr>\n",
       "  </thead>\n",
       "  <tbody>\n",
       "    <tr>\n",
       "      <th>0</th>\n",
       "      <td>0.38</td>\n",
       "      <td>0.53</td>\n",
       "      <td>2</td>\n",
       "      <td>157</td>\n",
       "      <td>3</td>\n",
       "      <td>0</td>\n",
       "      <td>1</td>\n",
       "      <td>0</td>\n",
       "      <td>sales</td>\n",
       "      <td>low</td>\n",
       "    </tr>\n",
       "    <tr>\n",
       "      <th>1</th>\n",
       "      <td>0.80</td>\n",
       "      <td>0.86</td>\n",
       "      <td>5</td>\n",
       "      <td>262</td>\n",
       "      <td>6</td>\n",
       "      <td>0</td>\n",
       "      <td>1</td>\n",
       "      <td>0</td>\n",
       "      <td>sales</td>\n",
       "      <td>medium</td>\n",
       "    </tr>\n",
       "    <tr>\n",
       "      <th>2</th>\n",
       "      <td>0.11</td>\n",
       "      <td>0.88</td>\n",
       "      <td>7</td>\n",
       "      <td>272</td>\n",
       "      <td>4</td>\n",
       "      <td>0</td>\n",
       "      <td>1</td>\n",
       "      <td>0</td>\n",
       "      <td>sales</td>\n",
       "      <td>medium</td>\n",
       "    </tr>\n",
       "    <tr>\n",
       "      <th>3</th>\n",
       "      <td>0.72</td>\n",
       "      <td>0.87</td>\n",
       "      <td>5</td>\n",
       "      <td>223</td>\n",
       "      <td>5</td>\n",
       "      <td>0</td>\n",
       "      <td>1</td>\n",
       "      <td>0</td>\n",
       "      <td>sales</td>\n",
       "      <td>low</td>\n",
       "    </tr>\n",
       "    <tr>\n",
       "      <th>4</th>\n",
       "      <td>0.37</td>\n",
       "      <td>0.52</td>\n",
       "      <td>2</td>\n",
       "      <td>159</td>\n",
       "      <td>3</td>\n",
       "      <td>0</td>\n",
       "      <td>1</td>\n",
       "      <td>0</td>\n",
       "      <td>sales</td>\n",
       "      <td>low</td>\n",
       "    </tr>\n",
       "  </tbody>\n",
       "</table>\n",
       "</div>"
      ],
      "text/plain": [
       "   satisfaction_level  last_evaluation  number_project  average_montly_hours  \\\n",
       "0                0.38             0.53               2                   157   \n",
       "1                0.80             0.86               5                   262   \n",
       "2                0.11             0.88               7                   272   \n",
       "3                0.72             0.87               5                   223   \n",
       "4                0.37             0.52               2                   159   \n",
       "\n",
       "   time_spend_company  Work_accident  left  promotion_last_5years  sales  \\\n",
       "0                   3              0     1                      0  sales   \n",
       "1                   6              0     1                      0  sales   \n",
       "2                   4              0     1                      0  sales   \n",
       "3                   5              0     1                      0  sales   \n",
       "4                   3              0     1                      0  sales   \n",
       "\n",
       "   salary  \n",
       "0     low  \n",
       "1  medium  \n",
       "2  medium  \n",
       "3     low  \n",
       "4     low  "
      ]
     },
     "execution_count": 3,
     "metadata": {},
     "output_type": "execute_result"
    }
   ],
   "source": [
    "data.head()"
   ]
  },
  {
   "cell_type": "code",
   "execution_count": 5,
   "id": "1a8943cc",
   "metadata": {},
   "outputs": [
    {
     "name": "stdout",
     "output_type": "stream",
     "text": [
      "       Encoded Salary  Dept\n",
      "0                   1     7\n",
      "1                   2     7\n",
      "2                   2     7\n",
      "3                   1     7\n",
      "4                   1     7\n",
      "...               ...   ...\n",
      "14994               1     8\n",
      "14995               1     8\n",
      "14996               1     8\n",
      "14997               1     8\n",
      "14998               1     8\n",
      "\n",
      "[14999 rows x 2 columns]\n"
     ]
    }
   ],
   "source": [
    "le=preprocessing.LabelEncoder()\n",
    "data['Encoded Salary']=le.fit_transform(data['salary'])\n",
    "data['Dept']=le.fit_transform(data['sales'])\n",
    "\n",
    "print(data[['Encoded Salary','Dept']])"
   ]
  },
  {
   "cell_type": "code",
   "execution_count": 6,
   "id": "f2da6fe9",
   "metadata": {},
   "outputs": [
    {
     "data": {
      "text/plain": [
       "array(['sales', 'accounting', 'hr', 'technical', 'support', 'management',\n",
       "       'IT', 'product_mng', 'marketing', 'RandD'], dtype=object)"
      ]
     },
     "execution_count": 6,
     "metadata": {},
     "output_type": "execute_result"
    }
   ],
   "source": [
    "data.sales.unique()"
   ]
  },
  {
   "cell_type": "code",
   "execution_count": 7,
   "id": "9b1d1530",
   "metadata": {},
   "outputs": [
    {
     "data": {
      "text/plain": [
       "array(['sales', 'accounting', 'hr', 'technical', 'support', 'management',\n",
       "       'IT', 'product_mng', 'marketing', 'RandD', 7, 2, 3, 9, 8, 4, 0, 6,\n",
       "       5, 1], dtype=object)"
      ]
     },
     "execution_count": 7,
     "metadata": {},
     "output_type": "execute_result"
    }
   ],
   "source": [
    "pd.unique(data[['sales','Dept']].values.ravel('K'))"
   ]
  },
  {
   "cell_type": "code",
   "execution_count": 8,
   "id": "9fe7ba89",
   "metadata": {},
   "outputs": [],
   "source": [
    "# Spliting data into Features\n",
    "X=data[['satisfaction_level', 'last_evaluation', 'number_project', 'average_montly_hours', \n",
    "        'time_spend_company', 'Work_accident', 'promotion_last_5years', 'Dept', 'Encoded Salary']]\n",
    "\n",
    "y=data['left']\n",
    "\n",
    "\n",
    "\n",
    "# Split dataset into training set and test set\n",
    "X_train, X_test, y_train, y_test = train_test_split(X, y, test_size=0.2, random_state=42)  # 70% training and 30% test"
   ]
  },
  {
   "cell_type": "code",
   "execution_count": 22,
   "id": "f771ba0c",
   "metadata": {},
   "outputs": [],
   "source": [
    "clf=MLPClassifier(hidden_layer_sizes=(6,5),\n",
    "                 random_state=5,\n",
    "                 verbose=False,\n",
    "                 learning_rate_init=0.01)"
   ]
  },
  {
   "cell_type": "code",
   "execution_count": 23,
   "id": "19ec323a",
   "metadata": {},
   "outputs": [
    {
     "data": {
      "text/plain": [
       "[0.6143518816732237,\n",
       " 0.5737744931173342,\n",
       " 0.553080690155228,\n",
       " 0.5198236314693025,\n",
       " 0.4941087757562591,\n",
       " 0.49836247175737425,\n",
       " 0.46911134887470685,\n",
       " 0.47278825403804275,\n",
       " 0.4708286234343053,\n",
       " 0.4592910931823533,\n",
       " 0.4598318583066757,\n",
       " 0.4549790111412244,\n",
       " 0.45639166128059644,\n",
       " 0.4515949785540703,\n",
       " 0.45325207650748284,\n",
       " 0.46638641828624905,\n",
       " 0.4525905739592712,\n",
       " 0.4555117186111838,\n",
       " 0.4604458421823257,\n",
       " 0.4576458089168207,\n",
       " 0.4631546069076525,\n",
       " 0.4404748971608895,\n",
       " 0.42967060006572555,\n",
       " 0.41790311775094036,\n",
       " 0.3951371145026437,\n",
       " 0.3839850024507137,\n",
       " 0.3629750607325795,\n",
       " 0.3527000019632464,\n",
       " 0.34618764502586247,\n",
       " 0.32700979300401506,\n",
       " 0.3237918768090446,\n",
       " 0.3163236266716445,\n",
       " 0.3147085859476483,\n",
       " 0.3103864213882699,\n",
       " 0.3062725806336084,\n",
       " 0.29602472208159986,\n",
       " 0.2926872750208526,\n",
       " 0.2970304558730471,\n",
       " 0.2910786898963584,\n",
       " 0.2907937946808893,\n",
       " 0.2991010891621636,\n",
       " 0.28894631118815434,\n",
       " 0.27967545298213226,\n",
       " 0.28117439013835116,\n",
       " 0.28418027930187295,\n",
       " 0.28007663607059013,\n",
       " 0.28455760736063135,\n",
       " 0.2718900757241883,\n",
       " 0.2824160355993752,\n",
       " 0.2749188753025773,\n",
       " 0.28664540644544306,\n",
       " 0.2726328143722519,\n",
       " 0.27804114195288776,\n",
       " 0.27144941052608684,\n",
       " 0.2843052858492018,\n",
       " 0.2721713521015697,\n",
       " 0.2643239573903609,\n",
       " 0.26172311110027574,\n",
       " 0.27211452067354797,\n",
       " 0.26408451598784893,\n",
       " 0.2653064383332677,\n",
       " 0.25646334815528415,\n",
       " 0.2714203083878842,\n",
       " 0.2702773583382958,\n",
       " 0.2594344569561813,\n",
       " 0.2604389834470625,\n",
       " 0.24866806757974658,\n",
       " 0.25660898173784796,\n",
       " 0.2525932611910967,\n",
       " 0.24903892659977175,\n",
       " 0.2542401819284467,\n",
       " 0.24056148570077623,\n",
       " 0.24551134366454277,\n",
       " 0.24285052972749008,\n",
       " 0.23758524385947905,\n",
       " 0.24817768961361042,\n",
       " 0.24098396287883356,\n",
       " 0.2344401431136554,\n",
       " 0.2458975774498434,\n",
       " 0.2303907802356549,\n",
       " 0.2523000546812286,\n",
       " 0.24420358552288476,\n",
       " 0.2287865146176106,\n",
       " 0.22925997600039513,\n",
       " 0.23628177618857202,\n",
       " 0.2400307805264451,\n",
       " 0.2348649502371874,\n",
       " 0.2302974540682795,\n",
       " 0.2313438045550945,\n",
       " 0.22042277065880844,\n",
       " 0.21968616158111262,\n",
       " 0.23249745911043795,\n",
       " 0.22442772307823403,\n",
       " 0.22095700031763668,\n",
       " 0.2217717496737225,\n",
       " 0.2150030601782714,\n",
       " 0.20883740423294278,\n",
       " 0.20747131402882987,\n",
       " 0.207061976315832,\n",
       " 0.19923445931303485,\n",
       " 0.2207478290231297,\n",
       " 0.19463564565702082,\n",
       " 0.19170761097583694,\n",
       " 0.18915589647997108,\n",
       " 0.190335982268688,\n",
       " 0.18037969967849546,\n",
       " 0.17846889553805087,\n",
       " 0.18211891283697512,\n",
       " 0.19947951052476626,\n",
       " 0.17693725151426976,\n",
       " 0.17444749576493235,\n",
       " 0.1731176836095809,\n",
       " 0.17720827727022392,\n",
       " 0.16967119660106997,\n",
       " 0.18366288254784188,\n",
       " 0.1668625065878644,\n",
       " 0.16162751990456925,\n",
       " 0.16824136465715905,\n",
       " 0.16356196536331982,\n",
       " 0.17471179040338947,\n",
       " 0.16275332823410404,\n",
       " 0.16526372599567196,\n",
       " 0.16332731613067178,\n",
       " 0.16307425092019098,\n",
       " 0.1650298696300297,\n",
       " 0.16316258858819324,\n",
       " 0.16372996086169073,\n",
       " 0.157344012952179,\n",
       " 0.16058166307264476,\n",
       " 0.16211384947689114,\n",
       " 0.16036500561312286,\n",
       " 0.16842486090861447,\n",
       " 0.17362539463553492,\n",
       " 0.1576954336497258,\n",
       " 0.15761901947383797,\n",
       " 0.1610509181670883,\n",
       " 0.15961840428533197,\n",
       " 0.15504451131247185,\n",
       " 0.16266017648037687,\n",
       " 0.16079508831264994,\n",
       " 0.1593379299101587,\n",
       " 0.16180383214054392,\n",
       " 0.1578613863252407,\n",
       " 0.15673337868028256,\n",
       " 0.15389344279007322,\n",
       " 0.16069995941834792,\n",
       " 0.16708977746542333,\n",
       " 0.1628940377537485,\n",
       " 0.15788965986477135,\n",
       " 0.157046654267099,\n",
       " 0.16377121641363288,\n",
       " 0.15461832141923107,\n",
       " 0.15332183334176336,\n",
       " 0.1489914735261132,\n",
       " 0.15274171519350066,\n",
       " 0.16574334968424242,\n",
       " 0.16488498939375645,\n",
       " 0.15366340259376568,\n",
       " 0.15639871012343987,\n",
       " 0.15343183977567484,\n",
       " 0.15183404576266638,\n",
       " 0.16081025686784095,\n",
       " 0.16869072764233875,\n",
       " 0.17018256229296355,\n",
       " 0.15595259135185727]"
      ]
     },
     "execution_count": 23,
     "metadata": {},
     "output_type": "execute_result"
    }
   ],
   "source": [
    "clf.fit(X_train,y_train)\n",
    "clf.loss_curve_"
   ]
  },
  {
   "cell_type": "code",
   "execution_count": 24,
   "id": "256aa6e2",
   "metadata": {},
   "outputs": [
    {
     "name": "stdout",
     "output_type": "stream",
     "text": [
      "testpred is : [1]\n",
      "Employee will leave\n"
     ]
    },
    {
     "name": "stderr",
     "output_type": "stream",
     "text": [
      "C:\\Users\\shashank adiga\\AppData\\Roaming\\Python\\Python39\\site-packages\\sklearn\\base.py:445: UserWarning: X does not have valid feature names, but MLPClassifier was fitted with feature names\n",
      "  warnings.warn(\n"
     ]
    }
   ],
   "source": [
    "testX = [[0.37,0.32,2,188,3,0,0,7,0]]  \n",
    "testpred=clf.predict(testX)\n",
    "print(\"testpred is :\", testpred)\n",
    "\n",
    "if testpred == 0: \n",
    "  print(\"Employee will stay\")\n",
    "else:\n",
    "  print(\"Employee will leave\")"
   ]
  },
  {
   "cell_type": "code",
   "execution_count": 32,
   "id": "8cd8270a",
   "metadata": {},
   "outputs": [
    {
     "data": {
      "image/png": "[encoded data removed]",
      "text/plain": [
       "<Figure size 432x288 with 2 Axes>"
      ]
     },
     "metadata": {
      "needs_background": "light"
     },
     "output_type": "display_data"
    }
   ],
   "source": [
    "\n",
    "N_TRAIN_SAMPLES = X_train.shape[0]\n",
    "N_EPOCHS = 25\n",
    "N_BATCH = 128\n",
    "N_CLASSES = np.unique(y_train)\n",
    "\n",
    "scores_train = []\n",
    "scores_test = []\n",
    "\n",
    "# EPOCH\n",
    "epoch = 0\n",
    "while epoch < N_EPOCHS:\n",
    "    #print('epoch: ', epoch)\n",
    "    # SHUFFLING\n",
    "    # Do randon permutation umtil the # of rows in dataset. Here it is 14,999\n",
    "    random_perm = np.random.permutation(X_train.shape[0])\n",
    "    mini_batch_index = 0\n",
    "\n",
    "    #Do mini-batch training until # of rows are reached \n",
    "    while True:\n",
    "        # MINI-BATCH\n",
    "        # Do for a random # of rows + fixed batch sixe \n",
    "        indices = random_perm[mini_batch_index:mini_batch_index + N_BATCH]\n",
    "        # Fit the MLP Classifier \n",
    "        clf.partial_fit(X_train.iloc[indices], y_train.iloc[indices], classes=N_CLASSES)\n",
    "        # Do for the rest after the previous mini-batch index \n",
    "        mini_batch_index += N_BATCH\n",
    "\n",
    "        if mini_batch_index >= N_TRAIN_SAMPLES:\n",
    "            break\n",
    "\n",
    "    # ACCURACY SCORE FOR TRAIN\n",
    "    scores_train.append(clf.score(X_train, y_train))\n",
    "\n",
    "    # ACCURACY SCORE FOR TEST\n",
    "    scores_test.append(clf.score(X_test, y_test))\n",
    "\n",
    "    epoch += 1\n",
    "\n",
    "\"\"\" Plotting the Accuracy Score Over the 25 Epochs\"\"\"\n",
    "fig, ax = plt.subplots(2, sharex=True, sharey=True)\n",
    "ax[0].plot(scores_train)\n",
    "ax[0].set_title('Train')\n",
    "ax[1].plot(scores_test)\n",
    "ax[1].set_title('Test')\n",
    "fig.suptitle(\"Accuracy over epochs\", fontsize=14)\n",
    "plt.show()"
   ]
  },
  {
   "cell_type": "code",
   "execution_count": 27,
   "id": "8361d849",
   "metadata": {},
   "outputs": [
    {
     "name": "stdout",
     "output_type": "stream",
     "text": [
      "Accuracy Score for Train Data is 0.9455787982331861\n",
      "Accuracy Score for Test Data is 0.938\n"
     ]
    }
   ],
   "source": [
    "\n",
    "\n",
    "# Make prediction on train dataset\n",
    "ypredtrain = clf.predict(X_train)\n",
    "\n",
    "# Calcuate accuracy\n",
    "print(\"Accuracy Score for Train Data is\",accuracy_score(y_train,ypredtrain))\n",
    "\n",
    "# Make prediction on test dataset\n",
    "ypredtest=clf.predict(X_test)\n",
    "\n",
    "# Calcuate accuracy\n",
    "print(\"Accuracy Score for Test Data is\", accuracy_score(y_test,ypredtest))\n"
   ]
  },
  {
   "cell_type": "code",
   "execution_count": 28,
   "id": "8208220c",
   "metadata": {},
   "outputs": [
    {
     "name": "stdout",
     "output_type": "stream",
     "text": [
      "Train Confusion Matrix is\n",
      " [[8699  435]\n",
      " [ 218 2647]]\n"
     ]
    }
   ],
   "source": [
    "from sklearn.metrics import confusion_matrix\n",
    "conftrain=confusion_matrix(y_train,ypredtrain)\n",
    "print(\"Train Confusion Matrix is\\n\", conftrain)\n",
    " "
   ]
  },
  {
   "cell_type": "code",
   "execution_count": 29,
   "id": "d3f4d7cf",
   "metadata": {},
   "outputs": [
    {
     "name": "stdout",
     "output_type": "stream",
     "text": [
      "Test Confusion Matrix is\n",
      " [[2175  119]\n",
      " [  67  639]]\n"
     ]
    }
   ],
   "source": [
    "\n",
    "conftest=confusion_matrix(y_test,ypredtest)\n",
    "print(\"Test Confusion Matrix is\\n\", conftest)"
   ]
  },
  {
   "cell_type": "code",
   "execution_count": 30,
   "id": "3b84ab25",
   "metadata": {},
   "outputs": [
    {
     "name": "stdout",
     "output_type": "stream",
     "text": [
      "\n",
      " For Test Data\n",
      "\n",
      "TH 2175\n",
      "\n",
      "TP 639\n",
      "\n",
      "FH 119\n",
      "\n",
      "FP 67\n"
     ]
    }
   ],
   "source": [
    "\n",
    "TN, FN, FP, TP = metrics.confusion_matrix(list(y_test), list(ypredtest), labels=[0, 1]).ravel() #0,1 is default label of sklearn\n",
    "\n",
    "print(\"\\n For Test Data\")\n",
    "print(\"\\nTH\",TN)\n",
    "print(\"\\nTP\",TP)\n",
    "print(\"\\nFH\",FN)\n",
    "print(\"\\nFP\",FP)"
   ]
  },
  {
   "cell_type": "code",
   "execution_count": 31,
   "id": "715a5cec",
   "metadata": {},
   "outputs": [
    {
     "name": "stdout",
     "output_type": "stream",
     "text": [
      "\n",
      " For Train Data\n",
      "\n",
      "TH 8699\n",
      "\n",
      "TP 2647\n",
      "\n",
      "FH 435\n",
      "\n",
      "FP 218\n"
     ]
    }
   ],
   "source": [
    "TN, FN, FP, TP = metrics.confusion_matrix(list(y_train), list(ypredtrain), labels=[0, 1]).ravel() #0,1 is default label of sklearn\n",
    "\n",
    "print(\"\\n For Train Data\")\n",
    "print(\"\\nTH\",TN)\n",
    "print(\"\\nTP\",TP)\n",
    "print(\"\\nFH\",FN)\n",
    "print(\"\\nFP\",FP)"
   ]
  },
  {
   "cell_type": "code",
   "execution_count": null,
   "id": "2864037f",
   "metadata": {},
   "outputs": [],
   "source": []
  }
 ],
 "metadata": {
  "kernelspec": {
   "display_name": "Python 3 (ipykernel)",
   "language": "python",
   "name": "python3"
  },
  "language_info": {
   "codemirror_mode": {
    "name": "ipython",
    "version": 3
   },
   "file_extension": ".py",
   "mimetype": "text/x-python",
   "name": "python",
   "nbconvert_exporter": "python",
   "pygments_lexer": "ipython3",
   "version": "3.9.5"
  }
 },
 "nbformat": 4,
 "nbformat_minor": 5
}
