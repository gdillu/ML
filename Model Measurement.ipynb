{
 "cells": [
  {
   "cell_type": "code",
   "execution_count": 3,
   "id": "3be05bdb",
   "metadata": {},
   "outputs": [],
   "source": [
    "import numpy as np\n",
    "import pandas as pd\n",
    "from sklearn.datasets import load_breast_cancer\n",
    "from sklearn.model_selection import train_test_split\n",
    "from sklearn import svm\n",
    "from sklearn import metrics\n",
    "import matplotlib.pyplot as plt\n",
    "import seaborn as sns\n",
    "\n",
    "\n"
   ]
  },
  {
   "cell_type": "code",
   "execution_count": 5,
   "id": "a74848cb",
   "metadata": {},
   "outputs": [
    {
     "name": "stdout",
     "output_type": "stream",
     "text": [
      ".. _breast_cancer_dataset:\n",
      "\n",
      "Breast cancer wisconsin (diagnostic) dataset\n",
      "--------------------------------------------\n",
      "\n",
      "**Data Set Characteristics:**\n",
      "\n",
      "    :Number of Instances: 569\n",
      "\n",
      "    :Number of Attributes: 30 numeric, predictive attributes and the class\n",
      "\n",
      "    :Attribute Information:\n",
      "        - radius (mean of distances from center to points on the perimeter)\n",
      "        - texture (standard deviation of gray-scale values)\n",
      "        - perimeter\n",
      "        - area\n",
      "        - smoothness (local variation in radius lengths)\n",
      "        - compactness (perimeter^2 / area - 1.0)\n",
      "        - concavity (severity of concave portions of the contour)\n",
      "        - concave points (number of concave portions of the contour)\n",
      "   \n"
     ]
    }
   ],
   "source": [
    "data=load_breast_cancer()\n",
    "print(data.DESCR[:700])\n"
   ]
  },
  {
   "cell_type": "code",
   "execution_count": 6,
   "id": "00874d64",
   "metadata": {},
   "outputs": [
    {
     "name": "stdout",
     "output_type": "stream",
     "text": [
      "['malignant' 'benign']\n"
     ]
    }
   ],
   "source": [
    "print(data.target_names)"
   ]
  },
  {
   "cell_type": "code",
   "execution_count": 9,
   "id": "8aa73242",
   "metadata": {},
   "outputs": [
    {
     "name": "stdout",
     "output_type": "stream",
     "text": [
      "(569, 30)\n",
      "(569,)\n"
     ]
    }
   ],
   "source": [
    "X=data.data\n",
    "y=data.target\n",
    "\n",
    "print(X.shape)\n",
    "print(y.shape)"
   ]
  },
  {
   "cell_type": "code",
   "execution_count": 10,
   "id": "986eb650",
   "metadata": {},
   "outputs": [
    {
     "name": "stdout",
     "output_type": "stream",
     "text": [
      "[0 0 0 0 0 0 0 0 0 0 0 0 0 0 0 0 0 0 0 1 1 1 0 0 0 0 0 0 0 0 0 0 0 0 0 0 0\n",
      " 1 0 0 0 0 0 0 0 0 1 0 1 1 1 1 1 0 0 1 0 0 1 1 1 1 0 1 0 0 1 1 1 1 0 1 0 0\n",
      " 1 0 1 0 0 1 1 1 0 0 1 0 0 0 1 1 1 0 1 1 0 0 1 1 1 0 0 1 1 1 1 0 1 1 0 1 1\n",
      " 1 1 1 1 1 1 0 0 0 1 0 0 1 1 1 0 0 1 0 1 0 0 1 0 0 1 1 0 1 1 0 1 1 1 1 0 1\n",
      " 1 1 1 1 1 1 1 1 0 1 1 1 1 0 0 1 0 1 1 0 0 1 1 0 0 1 1 1 1 0 1 1 0 0 0 1 0\n",
      " 1 0 1 1 1 0 1 1 0 0 1 0 0 0 0 1 0 0 0 1 0 1 0 1 1 0 1 0 0 0 0 1 1 0 0 1 1\n",
      " 1 0 1 1 1 1 1 0 0 1 1 0 1 1 0 0 1 0 1 1 1 1 0 1 1 1 1 1 0 1 0 0 0 0 0 0 0\n",
      " 0 0 0 0 0 0 0 1 1 1 1 1 1 0 1 0 1 1 0 1 1 0 1 0 0 1 1 1 1 1 1 1 1 1 1 1 1\n",
      " 1 0 1 1 0 1 0 1 1 1 1 1 1 1 1 1 1 1 1 1 1 0 1 1 1 0 1 0 1 1 1 1 0 0 0 1 1\n",
      " 1 1 0 1 0 1 0 1 1 1 0 1 1 1 1 1 1 1 0 0 0 1 1 1 1 1 1 1 1 1 1 1 0 0 1 0 0\n",
      " 0 1 0 0 1 1 1 1 1 0 1 1 1 1 1 0 1 1 1 0 1 1 0 0 1 1 1 1 1 1 0 1 1 1 1 1 1\n",
      " 1 0 1 1 1 1 1 0 1 1 0 1 1 1 1 1 1 1 1 1 1 1 1 0 1 0 0 1 0 1 1 1 1 1 0 1 1\n",
      " 0 1 0 1 1 0 1 0 1 1 1 1 1 1 1 1 0 0 1 1 1 1 1 1 0 1 1 1 1 1 1 1 1 1 1 0 1\n",
      " 1 1 1 1 1 1 0 1 0 1 1 0 1 1 1 1 1 0 0 1 0 1 0 1 1 1 1 1 0 1 1 0 1 0 1 0 0\n",
      " 1 1 1 0 1 1 1 1 1 1 1 1 1 1 1 0 1 0 0 1 1 1 1 1 1 1 1 1 1 1 1 1 1 1 1 1 1\n",
      " 1 1 1 1 1 1 1 0 0 0 0 0 0 1]\n"
     ]
    }
   ],
   "source": [
    "print(y)"
   ]
  },
  {
   "cell_type": "code",
   "execution_count": 11,
   "id": "cb3709be",
   "metadata": {},
   "outputs": [
    {
     "data": {
      "text/plain": [
       "array([1, 1, 0, 1, 1, 1, 1, 1, 1, 0])"
      ]
     },
     "execution_count": 11,
     "metadata": {},
     "output_type": "execute_result"
    }
   ],
   "source": [
    "X_train,X_test,y_train,y_test=train_test_split(X,y,test_size=200)\n",
    "y_train[:10]"
   ]
  },
  {
   "cell_type": "code",
   "execution_count": 12,
   "id": "a67d1031",
   "metadata": {},
   "outputs": [],
   "source": [
    "clf=svm.SVC(kernel='linear',probability=True,verbose=True)"
   ]
  },
  {
   "cell_type": "code",
   "execution_count": 14,
   "id": "f29479b0",
   "metadata": {},
   "outputs": [
    {
     "name": "stdout",
     "output_type": "stream",
     "text": [
      "[LibSVM]"
     ]
    },
    {
     "data": {
      "text/plain": [
       "SVC(kernel='linear', probability=True, verbose=True)"
      ]
     },
     "execution_count": 14,
     "metadata": {},
     "output_type": "execute_result"
    }
   ],
   "source": [
    "clf.fit(X_train,y_train)"
   ]
  },
  {
   "cell_type": "code",
   "execution_count": 15,
   "id": "1785d44f",
   "metadata": {},
   "outputs": [
    {
     "name": "stdout",
     "output_type": "stream",
     "text": [
      "[0 0 0 1 1]\n",
      "[0 0 0 1 1]\n",
      "[[9.54175452e-01 4.58245483e-02]\n",
      " [9.99994417e-01 5.58295073e-06]\n",
      " [9.89191941e-01 1.08080592e-02]\n",
      " [1.49813531e-02 9.85018647e-01]\n",
      " [3.52435313e-01 6.47564687e-01]]\n"
     ]
    }
   ],
   "source": [
    "y_preds=clf.predict(X_test)\n",
    "y_proba=clf.predict_proba(X_test)\n",
    "print(y_preds[:5])\n",
    "print(y_test[:5])\n",
    "print(y_proba[:5])"
   ]
  },
  {
   "cell_type": "code",
   "execution_count": 16,
   "id": "ade60094",
   "metadata": {},
   "outputs": [
    {
     "data": {
      "text/plain": [
       "(200, 2)"
      ]
     },
     "execution_count": 16,
     "metadata": {},
     "output_type": "execute_result"
    }
   ],
   "source": [
    "y_proba.shape"
   ]
  },
  {
   "cell_type": "code",
   "execution_count": 17,
   "id": "faec34da",
   "metadata": {},
   "outputs": [
    {
     "name": "stdout",
     "output_type": "stream",
     "text": [
      "2D to 1D reshaped Probability of benign.  [4.58245483e-02 5.58295073e-06 1.08080592e-02 9.85018647e-01\n",
      " 6.47564687e-01]\n"
     ]
    }
   ],
   "source": [
    "y_pro = y_proba[:,1].reshape((y_proba.shape[0],))\n",
    "print(\"2D to 1D reshaped Probability of benign. \", y_pro[:5])\n"
   ]
  },
  {
   "cell_type": "code",
   "execution_count": 18,
   "id": "d8c10319",
   "metadata": {},
   "outputs": [
    {
     "data": {
      "text/plain": [
       "(200,)"
      ]
     },
     "execution_count": 18,
     "metadata": {},
     "output_type": "execute_result"
    }
   ],
   "source": [
    "y_pro.shape"
   ]
  },
  {
   "cell_type": "code",
   "execution_count": 20,
   "id": "821136c8",
   "metadata": {},
   "outputs": [
    {
     "name": "stdout",
     "output_type": "stream",
     "text": [
      "[4.58245483e-02 5.58295073e-06 1.08080592e-02 9.85018647e-01\n",
      " 6.47564687e-01]\n"
     ]
    }
   ],
   "source": [
    "y_proba=y_proba[:,1].reshape((y_proba.shape[0],))\n",
    "print(y_proba[:5])"
   ]
  },
  {
   "cell_type": "code",
   "execution_count": 25,
   "id": "1e91dba2",
   "metadata": {},
   "outputs": [
    {
     "name": "stdout",
     "output_type": "stream",
     "text": [
      "74\n",
      "120\n",
      "2\n",
      "4\n",
      "[[ 74   2]\n",
      " [  4 120]]\n",
      "[[120   4]\n",
      " [  2  74]]\n"
     ]
    }
   ],
   "source": [
    "TN,FP,FN,TP=metrics.confusion_matrix(list(y_test),list(y_preds),labels=[0,1]).ravel()\n",
    "print(TN)\n",
    "print(TP)\n",
    "print(FP)\n",
    "print(FN)\n",
    "\n",
    "sklearnconf=metrics.confusion_matrix(y_test,y_preds)\n",
    "print(sklearnconf)\n",
    "conf=metrics.confusion_matrix(y_test,y_preds,labels=[1,0])\n",
    "print(conf)"
   ]
  },
  {
   "cell_type": "code",
   "execution_count": 28,
   "id": "48871641",
   "metadata": {},
   "outputs": [
    {
     "name": "stdout",
     "output_type": "stream",
     "text": [
      "predicted ACC is 0.970\n",
      "actual ACC is  0.970\n"
     ]
    }
   ],
   "source": [
    "ACC=(TP+TN)/(TP+TN+FP+FN)\n",
    "print(f\"predicted ACC is {ACC:.3f}\")\n",
    "print(f\"actual ACC is {metrics.accuracy_score(y_test,y_preds): .3f}\")"
   ]
  },
  {
   "cell_type": "code",
   "execution_count": 35,
   "id": "5ffc052c",
   "metadata": {},
   "outputs": [
    {
     "name": "stdout",
     "output_type": "stream",
     "text": [
      "0.968\n",
      " 0.968\n"
     ]
    }
   ],
   "source": [
    "#Recall or Sensitivity\n",
    "TPR=TP/(TP+FN)\n",
    "print(f\"{TPR:.3f}\")\n",
    "print(f\"{metrics.recall_score(y_test,y_preds): .3f}\")"
   ]
  },
  {
   "cell_type": "code",
   "execution_count": 36,
   "id": "60d7204e",
   "metadata": {},
   "outputs": [
    {
     "name": "stdout",
     "output_type": "stream",
     "text": [
      "0.974\n",
      "\n"
     ]
    }
   ],
   "source": [
    "#Specificity\n",
    "TNR=TN/(TN+FP)\n",
    "print(f'{TNR:.3f}')\n",
    "print()"
   ]
  },
  {
   "cell_type": "code",
   "execution_count": 37,
   "id": "802d24dc",
   "metadata": {},
   "outputs": [
    {
     "name": "stdout",
     "output_type": "stream",
     "text": [
      "0.984\n",
      " 0.984\n"
     ]
    }
   ],
   "source": [
    "#PPv or Precision\n",
    "PPV=TP/(TP+FP)\n",
    "print(f'{PPV:.3f}')\n",
    "print(f'{metrics.precision_score(y_test,y_preds): .3f}')"
   ]
  },
  {
   "cell_type": "code",
   "execution_count": null,
   "id": "27beb3fc",
   "metadata": {},
   "outputs": [],
   "source": [
    "NPV=TN/(TN+FN)"
   ]
  },
  {
   "cell_type": "code",
   "execution_count": 38,
   "id": "4288c23f",
   "metadata": {},
   "outputs": [
    {
     "name": "stdout",
     "output_type": "stream",
     "text": [
      "0.976\n",
      "0.976\n"
     ]
    }
   ],
   "source": [
    "#F1\n",
    "F1=(2*PPV*TPR)/(PPV+TPR)\n",
    "print(f'{F1:.3f}')\n",
    "print(f'{metrics.f1_score(y_test,y_preds):.3f}')"
   ]
  },
  {
   "cell_type": "code",
   "execution_count": 40,
   "id": "800b105c",
   "metadata": {},
   "outputs": [
    {
     "name": "stdout",
     "output_type": "stream",
     "text": [
      "0.937\n",
      "0.937\n"
     ]
    }
   ],
   "source": [
    "MCC=((TP*TN)-(FP*FN))/((TP+FP)*(TP+FN)*(TN+FP)*(TN+FN))**0.5\n",
    "print(f'{MCC:.3f}')\n",
    "print(f'{metrics.matthews_corrcoef(y_test,y_preds):.3f}')"
   ]
  },
  {
   "cell_type": "code",
   "execution_count": 44,
   "id": "2c3b1d11",
   "metadata": {},
   "outputs": [
    {
     "data": {
      "image/png": "[encoded data removed]",
      "text/plain": [
       "<Figure size 432x288 with 1 Axes>"
      ]
     },
     "metadata": {
      "needs_background": "light"
     },
     "output_type": "display_data"
    }
   ],
   "source": [
    "FPRs,TPRs,_=metrics.roc_curve(y_test,y_proba)\n",
    "plt.plot(FPRs,TPRs,color='red',lw=2,label='ROC')\n",
    "plt.plot([0,1],[0,1],color='navy',lw=2,linestyle='--',label='mean')\n",
    "plt.xlim([-0.05,1.0])\n",
    "plt.ylim([0.0,1.05])\n",
    "plt.show()"
   ]
  },
  {
   "cell_type": "code",
   "execution_count": 45,
   "id": "9db82172",
   "metadata": {},
   "outputs": [
    {
     "name": "stdout",
     "output_type": "stream",
     "text": [
      "0.9972410865874363\n"
     ]
    }
   ],
   "source": [
    "print(metrics.roc_auc_score(y_test,y_proba))"
   ]
  },
  {
   "cell_type": "code",
   "execution_count": 57,
   "id": "e2497820",
   "metadata": {},
   "outputs": [],
   "source": [
    "def get_confusion_matrix(y_true,y_pred):\n",
    "    n_classes=len(np.unique\n",
    "                  (y_true))\n",
    "    conf=np.zeros((n_classes,n_classes))\n",
    "    for actual,pred in zip(y_true,y_pred):\n",
    "        conf[int(actual)][int(pred)]+=1\n",
    "    return conf.astype('int')"
   ]
  },
  {
   "cell_type": "code",
   "execution_count": 58,
   "id": "de32def2",
   "metadata": {},
   "outputs": [],
   "source": [
    "def get_roc_curve(y_test,y_proba,delta=0.1):\n",
    "    thresh=list(np.arange(0,1,delta))+[1]\n",
    "    TPRs=[]\n",
    "    FPRs=[]\n",
    "    y_pred=np.empty(y_proba.shape)\n",
    "    for th in thresh:\n",
    "        y_pred[y_proba<th]=0\n",
    "        y_pred[y_proba>=th]=1\n",
    "        \n",
    "        (TN,FP),(FN,TP)=get_confusion_matrix(y_test,y_pred)\n",
    "        TPR=TP/(TP+FN)\n",
    "        FPR=FP/(FP+TN)\n",
    "        TPRs.append(TPR)\n",
    "        FPRs.append(FPR)\n",
    "    return FPRs,TPRs,thresh"
   ]
  },
  {
   "cell_type": "code",
   "execution_count": 59,
   "id": "81f60d7d",
   "metadata": {},
   "outputs": [],
   "source": [
    "delta=0.001\n",
    "FPRs,TPRs,_=get_roc_curve(y_test,y_proba,delta)"
   ]
  },
  {
   "cell_type": "code",
   "execution_count": 63,
   "id": "22f5f640",
   "metadata": {},
   "outputs": [],
   "source": [
    "def get_roc_auc_score(y_test,y_proba):\n",
    "    FPRs,TPRs,_=get_roc_curve(y_test, y_proba)\n",
    "    FPRs.reverse()\n",
    "    TPRs.reverse()\n",
    "    x1, y1 = FPRs[0], TPRs[0]\n",
    "    auc = 0.0\n",
    "    prev = 0.0\n",
    "    diffs = [FPRs[i] - FPRs[i-1] for i in range(1, len(FPRs))]\n",
    "    for x, y in zip(diffs, TPRs[1:]):\n",
    "        auc += (x * y1)  # area of rectangle\n",
    "        auc += (x * (y - y1)/2)  # area of triangle formed (if any)\n",
    "        y1 = y\n",
    "        \n",
    "    return auc\n",
    "    \n",
    "    "
   ]
  },
  {
   "cell_type": "code",
   "execution_count": 61,
   "id": "1b8a86ae",
   "metadata": {},
   "outputs": [
    {
     "data": {
      "image/png": "[encoded data removed]",
      "text/plain": [
       "<Figure size 432x288 with 1 Axes>"
      ]
     },
     "metadata": {
      "needs_background": "light"
     },
     "output_type": "display_data"
    }
   ],
   "source": [
    "\n",
    "# Plot the ROC curve\n",
    "plt.plot(FPRs, TPRs, color='red',\n",
    "         lw=2, label='ROC curve')\n",
    "plt.plot([0, 1], [0, 1], color='navy', lw=2, linestyle='--', label=\"Mean\")\n",
    "plt.xlim([-0.05, 1.0])\n",
    "plt.ylim([0.0, 1.05])\n",
    "plt.xlabel('False Positive Rate')\n",
    "plt.ylabel('True Positive Rate')\n",
    "plt.title(\"Scikit-learn's ROC curve\")\n",
    "plt.legend(loc=\"lower right\")\n",
    "plt.show()"
   ]
  },
  {
   "cell_type": "code",
   "execution_count": 64,
   "id": "131edcde",
   "metadata": {},
   "outputs": [
    {
     "name": "stdout",
     "output_type": "stream",
     "text": [
      "Scikit's ROC-AUC score of SVC model is  0.9975\n"
     ]
    }
   ],
   "source": [
    "auc_score = get_roc_auc_score(y_test, y_proba)\n",
    "print(f\"Scikit's ROC-AUC score of SVC model is {auc_score: .4f}\")"
   ]
  }
 ],
 "metadata": {
  "kernelspec": {
   "display_name": "Python 3 (ipykernel)",
   "language": "python",
   "name": "python3"
  },
  "language_info": {
   "codemirror_mode": {
    "name": "ipython",
    "version": 3
   },
   "file_extension": ".py",
   "mimetype": "text/x-python",
   "name": "python",
   "nbconvert_exporter": "python",
   "pygments_lexer": "ipython3",
   "version": "3.9.5"
  }
 },
 "nbformat": 4,
 "nbformat_minor": 5
}
